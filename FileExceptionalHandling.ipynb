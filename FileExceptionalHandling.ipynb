{
  "nbformat": 4,
  "nbformat_minor": 0,
  "metadata": {
    "colab": {
      "provenance": []
    },
    "kernelspec": {
      "name": "python3",
      "display_name": "Python 3"
    },
    "language_info": {
      "name": "python"
    }
  },
  "cells": [
    {
      "cell_type": "markdown",
      "source": [
        "# **Files and Exceptional Handling**"
      ],
      "metadata": {
        "id": "ksmrmkp34VMm"
      }
    },
    {
      "cell_type": "markdown",
      "source": [
        "1. What is the difference between interpreted and compiled languages?\n",
        "   --\n",
        "   - Interpreted languages (like Python) are executed line by line by an interpreter at runtime, while compiled languages (like C++) are first converted into machine code using a compiler and then executed. Interpreted code is generally slower but easier to debug.\n",
        "\n",
        "2. What is exception handling in Python?\n",
        "   --\n",
        "   - Exception handling is a way to deal with errors that occur during the execution of a program. It helps prevent the program from crashing by letting us define what should happen when an error occurs using try-except blocks.\n",
        "\n",
        "3. What is the purpose of the finally block in exception handling?\n",
        "   --\n",
        "   - The finally block is used to write code that should run no matter what—whether an exception occurred or not. It’s commonly used for cleanup actions like closing files or releasing resources.\n",
        "\n",
        "4. What is logging in Python?\n",
        "   --\n",
        "   - Logging is a way to track events that happen when the program runs. Instead of printing errors or messages, we can log them, which is helpful for debugging and keeping a record of what happened.\n",
        "\n",
        "5.  What is the significance of the __del__ method in Python?\n",
        "   --\n",
        "   - The __del__ method is a special method called when an object is about to be destroyed. It’s used to define cleanup actions like closing database connections or releasing other resources.\n",
        "\n",
        "6.  What is the difference between import and from ... import in Python?\n",
        "   --\n",
        "   - import module brings in the whole module, and we access functions like module.function(). from module import function imports just that function, so we can use it directly without the module name.\n",
        "\n",
        "7. How can you handle multiple exceptions in Python?\n",
        "  --\n",
        "  - We can handle multiple exceptions by using multiple except blocks for different error types, or using a single except block with a tuple of exception types.\n",
        "\n",
        "8. What is the purpose of the with statement when handling files in Python?\n",
        "  --\n",
        "  - The with statement automatically manages opening and closing the file. Even if an error occurs, the file is properly closed, which makes the code cleaner and safer.\n",
        "\n",
        "9. What is the difference between multithreading and multiprocessing?\n",
        "  --\n",
        "  - Multithreading uses multiple threads within a single process (better for I/O tasks), while multiprocessing uses separate processes (better for CPU-bound tasks) that run independently.\n",
        "\n",
        "10. What are the advantages of using logging in a program?\n",
        "  --\n",
        "\n",
        "  - Logging helps in tracking the flow of the program, debugging, identifying issues, and maintaining a history of events or errors without cluttering the screen with print statements.\n",
        "\n",
        "11. What is memory management in Python?\n",
        "   --\n",
        "  - Memory management in Python refers to how Python handles allocating and deallocating memory to objects during program execution. Python uses automatic garbage collection to manage memory.\n",
        "\n",
        "12. What are the basic steps involved in exception handling in Python?\n",
        "  --\n",
        "  - The basic steps are:\n",
        "\n",
        "     - Use try to wrap the code that might cause an error.\n",
        "\n",
        "     - Use except to handle specific errors.\n",
        "\n",
        "     - Optionally use else for code that runs if there’s no error.\n",
        "\n",
        "     - Use finally for code that always runs, error or not.\n",
        "\n",
        "13. Why is memory management important in Python?\n",
        "  --\n",
        "  - Good memory management avoids memory leaks, improves performance, and ensures that our program uses resources efficiently, especially in larger or long-running programs.\n",
        "\n",
        "14. What is the role of try and except in exception handling?\n",
        "  --\n",
        "  - The try block lets us test code for errors. The except block lets us handle those errors in a graceful way instead of crashing the program.\n",
        "\n",
        "15. How does Python's garbage collection system work?\n",
        "  --\n",
        "  - Python uses reference counting and a cyclic garbage collector to automatically free memory used by objects that are no longer needed.\n",
        "\n",
        "16. What is the purpose of the else block in exception handling?\n",
        "  --\n",
        "  - The else block runs only if no exceptions occur in the try block. It’s useful for writing code that should only run when everything goes smoothly.\n",
        "\n",
        "17. What are the common logging levels in Python?\n",
        "  --\n",
        "  - The common logging levels (from lowest to highest severity) are:\n",
        "\n",
        "     - DEBUG\n",
        "\n",
        "     - INFO\n",
        "\n",
        "     - WARNING\n",
        "\n",
        "     - ERROR\n",
        "\n",
        "     - CRITICAL\n",
        "\n",
        "18. What is the difference between os.fork() and multiprocessing in Python?\n",
        "  --\n",
        "  - os.fork() creates a child process on Unix-like systems, while multiprocessing is a cross-platform module in Python that allows running tasks in parallel using multiple processes.\n",
        "\n",
        "19. What is the importance of closing a file in Python?\n",
        "  --\n",
        "  - Closing a file frees up system resources, saves data properly, and prevents data corruption or memory leaks. It’s best to use with to ensure files are always closed.\n",
        "\n",
        "20. What is the difference between file.read() and file.readline() in Python?\n",
        "  --\n",
        "  - file.read() reads the entire file content at once, while file.readline() reads only one line at a time. The second one is more memory efficient for large files.\n",
        "\n",
        "21. What is the logging module in Python used for?\n",
        "  --\n",
        "  - The logging module is used to log messages to a file or console. It’s more flexible and powerful than print statements and supports different log levels and formats.\n",
        "\n",
        "22. What is the os module in Python used for in file handling?\n",
        "  --\n",
        "  - The os module lets us interact with the operating system. In file handling, we use it to work with file paths, check if files exist, create/delete directories, etc.\n",
        "\n",
        "23. What are the challenges associated with memory management in Python?\n",
        "  --\n",
        "  - Challenges include handling circular references, managing memory in long-running apps, and ensuring unused memory is properly freed without affecting performance.\n",
        "\n",
        "24. How do you raise an exception manually in Python?\n",
        "  --\n",
        "  - We can raise an exception using the raise keyword. Example: raise ValueError(\"Invalid input\").\n",
        "\n",
        "25. Why is it important to use multithreading in certain applications?\n",
        "  --\n",
        "  - Multithreading helps improve performance in I/O-bound applications like file handling, web scraping, or network programs by allowing tasks to run in parallel."
      ],
      "metadata": {
        "id": "34fjCeUu4ZEw"
      }
    },
    {
      "cell_type": "markdown",
      "source": [
        "## **Practical Questions**"
      ],
      "metadata": {
        "id": "ipoWBusD9zus"
      }
    },
    {
      "cell_type": "code",
      "execution_count": 3,
      "metadata": {
        "colab": {
          "base_uri": "https://localhost:8080/"
        },
        "id": "wOHhqE3o4BL9",
        "outputId": "4f85a2b5-5e2a-4463-f3bd-c91a11bbb74c"
      },
      "outputs": [
        {
          "output_type": "stream",
          "name": "stdout",
          "text": [
            "File written successfully.\n"
          ]
        }
      ],
      "source": [
        "#1. How can you open a file for writing in Python and write a string to it?\n",
        "with open(\"example.txt\", \"w\") as f:\n",
        "    f.write(\"Hello, this is a test.\")\n",
        "print(\"File written successfully.\")"
      ]
    },
    {
      "cell_type": "code",
      "source": [
        "#2. Write a Python program to read the contents of a file and print each line.\n",
        "with open(\"example.txt\", \"r\") as f:\n",
        "    for line in f:\n",
        "        print(\"Line:\", line.strip())"
      ],
      "metadata": {
        "colab": {
          "base_uri": "https://localhost:8080/"
        },
        "id": "UaXZXb1f_FFf",
        "outputId": "ec599289-4e1e-4dfa-b787-433a11630aa7"
      },
      "execution_count": 4,
      "outputs": [
        {
          "output_type": "stream",
          "name": "stdout",
          "text": [
            "Line: Hello, this is a test.\n"
          ]
        }
      ]
    },
    {
      "cell_type": "code",
      "source": [
        "#3. How would you handle a case where the file doesn't exist while trying to open it for reading?\n",
        "try:\n",
        "    with open(\"nonexistent.txt\", \"r\") as f:\n",
        "        print(f.read())\n",
        "except FileNotFoundError:\n",
        "    print(\"File not found.\")"
      ],
      "metadata": {
        "colab": {
          "base_uri": "https://localhost:8080/"
        },
        "id": "eA7o_8R7_Fak",
        "outputId": "6a18524a-8472-4094-9454-04edfd59376f"
      },
      "execution_count": 5,
      "outputs": [
        {
          "output_type": "stream",
          "name": "stdout",
          "text": [
            "File not found.\n"
          ]
        }
      ]
    },
    {
      "cell_type": "code",
      "source": [
        "#4. Write a Python script that reads from one file and writes its content to another file.\n",
        "with open(\"example.txt\", \"r\") as f1, open(\"copy.txt\", \"w\") as f2:\n",
        "    for line in f1:\n",
        "        f2.write(line)\n",
        "print(\"File copied successfully.\")"
      ],
      "metadata": {
        "colab": {
          "base_uri": "https://localhost:8080/"
        },
        "id": "-jyR2s60_Fn1",
        "outputId": "f2a93e27-6351-454f-96f8-f5d483f277c9"
      },
      "execution_count": 6,
      "outputs": [
        {
          "output_type": "stream",
          "name": "stdout",
          "text": [
            "File copied successfully.\n"
          ]
        }
      ]
    },
    {
      "cell_type": "code",
      "source": [
        "#5. How would you catch and handle division by zero error in Python?\n",
        "try:\n",
        "    result = 10 / 0\n",
        "except ZeroDivisionError:\n",
        "    print(\"Caught ZeroDivisionError: Cannot divide by zero.\")"
      ],
      "metadata": {
        "colab": {
          "base_uri": "https://localhost:8080/"
        },
        "id": "WPmXHrf3_F0V",
        "outputId": "2941af2b-cad0-4deb-a322-51b30416edd1"
      },
      "execution_count": 7,
      "outputs": [
        {
          "output_type": "stream",
          "name": "stdout",
          "text": [
            "Caught ZeroDivisionError: Cannot divide by zero.\n"
          ]
        }
      ]
    },
    {
      "cell_type": "code",
      "source": [
        "#6. Write a Python program that logs an error message to a log file when a division by zero exception occurs.\n",
        "import logging\n",
        "logging.basicConfig(filename=\"error.log\", level=logging.ERROR)\n",
        "try:\n",
        "    result = 10 / 0\n",
        "except ZeroDivisionError as e:\n",
        "    logging.error(\"Division by zero error: %s\", e)\n",
        "    print(\"Error logged to error.log\")"
      ],
      "metadata": {
        "colab": {
          "base_uri": "https://localhost:8080/"
        },
        "id": "IuyqfHzP_GL-",
        "outputId": "53c60229-3a84-45e8-afa1-2386e2904e45"
      },
      "execution_count": 8,
      "outputs": [
        {
          "output_type": "stream",
          "name": "stderr",
          "text": [
            "ERROR:root:Division by zero error: division by zero\n"
          ]
        },
        {
          "output_type": "stream",
          "name": "stdout",
          "text": [
            "Error logged to error.log\n"
          ]
        }
      ]
    },
    {
      "cell_type": "code",
      "source": [
        "#7. How do you log information at different levels (INFO, ERROR, WARNING) in Python using the logging module?\n",
        "import logging\n",
        "logging.basicConfig(level=logging.DEBUG)\n",
        "logging.info(\"This is an info message.\")\n",
        "logging.warning(\"This is a warning message.\")\n",
        "logging.error(\"This is an error message.\")\n",
        "print(\"Log messages printed.\")"
      ],
      "metadata": {
        "colab": {
          "base_uri": "https://localhost:8080/"
        },
        "id": "goWwKeF1_Gl6",
        "outputId": "8de24147-84d7-4d2c-8f3a-4c49dc606dfb"
      },
      "execution_count": 9,
      "outputs": [
        {
          "output_type": "stream",
          "name": "stderr",
          "text": [
            "WARNING:root:This is a warning message.\n",
            "ERROR:root:This is an error message.\n"
          ]
        },
        {
          "output_type": "stream",
          "name": "stdout",
          "text": [
            "Log messages printed.\n"
          ]
        }
      ]
    },
    {
      "cell_type": "code",
      "source": [
        "#8. Write a program to handle a file opening error using exception handling.\n",
        "try:\n",
        "    with open(\"missing.txt\", \"r\") as f:\n",
        "        print(f.read())\n",
        "except Exception as e:\n",
        "    print(\"Caught error:\", e)"
      ],
      "metadata": {
        "colab": {
          "base_uri": "https://localhost:8080/"
        },
        "id": "tcSJOjSK_GyB",
        "outputId": "7878405e-43f3-4b29-b93b-e302c2fc60a0"
      },
      "execution_count": 10,
      "outputs": [
        {
          "output_type": "stream",
          "name": "stdout",
          "text": [
            "Caught error: [Errno 2] No such file or directory: 'missing.txt'\n"
          ]
        }
      ]
    },
    {
      "cell_type": "code",
      "source": [
        "#9. How can you read a file line by line and store its content in a list in Python?\n",
        "with open(\"example.txt\", \"r\") as f:\n",
        "    lines = f.readlines()\n",
        "print(\"Lines in list:\", lines)"
      ],
      "metadata": {
        "colab": {
          "base_uri": "https://localhost:8080/"
        },
        "id": "rdQiFJaz_G_6",
        "outputId": "5ac89958-d771-4eee-e0f9-63cf22c6c983"
      },
      "execution_count": 11,
      "outputs": [
        {
          "output_type": "stream",
          "name": "stdout",
          "text": [
            "Lines in list: ['Hello, this is a test.']\n"
          ]
        }
      ]
    },
    {
      "cell_type": "code",
      "source": [
        "#10. How can you append data to an existing file in Python?\n",
        "with open(\"example.txt\", \"a\") as f:\n",
        "    f.write(\"\\nThis is an appended line.\")\n",
        "print(\"Line appended.\")"
      ],
      "metadata": {
        "colab": {
          "base_uri": "https://localhost:8080/"
        },
        "id": "sPY2J8Gb_HO_",
        "outputId": "717291ac-63f5-4eed-8260-35625f281431"
      },
      "execution_count": 12,
      "outputs": [
        {
          "output_type": "stream",
          "name": "stdout",
          "text": [
            "Line appended.\n"
          ]
        }
      ]
    },
    {
      "cell_type": "code",
      "source": [
        "#11. Write a Python program that uses a try-except block to handle an error when attempting to access a dictionary key that doesn't exist.\n",
        "my_dict = {\"a\": 1}\n",
        "try:\n",
        "    print(my_dict[\"b\"])\n",
        "except KeyError:\n",
        "    print(\"Caught KeyError: Key not found.\")"
      ],
      "metadata": {
        "colab": {
          "base_uri": "https://localhost:8080/"
        },
        "id": "wC3CIQHi_IJJ",
        "outputId": "53089df0-1bac-4b2b-eee5-ac1b96d61a41"
      },
      "execution_count": 13,
      "outputs": [
        {
          "output_type": "stream",
          "name": "stdout",
          "text": [
            "Caught KeyError: Key not found.\n"
          ]
        }
      ]
    },
    {
      "cell_type": "code",
      "source": [
        "#12. Write a program that demonstrates using multiple except blocks to handle different types of exceptions.\n",
        "try:\n",
        "    a = [1, 2, 3]\n",
        "    print(a[5])\n",
        "    x = 10 / 0\n",
        "except IndexError:\n",
        "    print(\"Caught IndexError.\")\n",
        "except ZeroDivisionError:\n",
        "    print(\"Caught ZeroDivisionError.\")"
      ],
      "metadata": {
        "colab": {
          "base_uri": "https://localhost:8080/"
        },
        "id": "qbKPIB2w_IZb",
        "outputId": "62664bc4-5f15-44eb-98c8-a4fd4a593ffe"
      },
      "execution_count": 14,
      "outputs": [
        {
          "output_type": "stream",
          "name": "stdout",
          "text": [
            "Caught IndexError.\n"
          ]
        }
      ]
    },
    {
      "cell_type": "code",
      "source": [
        "#13. How would you check if a file exists before attempting to read it in Python?\n",
        "import os\n",
        "if os.path.exists(\"example.txt\"):\n",
        "    with open(\"example.txt\", \"r\") as f:\n",
        "        print(\"File content:\\n\", f.read())\n",
        "else:\n",
        "    print(\"File does not exist.\")"
      ],
      "metadata": {
        "colab": {
          "base_uri": "https://localhost:8080/"
        },
        "id": "frRwVNZZ_It9",
        "outputId": "c728bac0-3baa-42fb-caed-92fad70b5f70"
      },
      "execution_count": 15,
      "outputs": [
        {
          "output_type": "stream",
          "name": "stdout",
          "text": [
            "File content:\n",
            " Hello, this is a test.\n",
            "This is an appended line.\n"
          ]
        }
      ]
    },
    {
      "cell_type": "code",
      "source": [
        "#14. Write a program that uses the logging module to log both informational and error messages.\n",
        "import logging\n",
        "logging.basicConfig(filename=\"info_error.log\", level=logging.DEBUG)\n",
        "logging.info(\"Program started\")\n",
        "try:\n",
        "    1 / 0\n",
        "except ZeroDivisionError as e:\n",
        "    logging.error(\"Error occurred: %s\", e)\n",
        "print(\"Info and error logged.\")"
      ],
      "metadata": {
        "colab": {
          "base_uri": "https://localhost:8080/"
        },
        "id": "B-OxdPef_sMp",
        "outputId": "87f1de95-01b9-4fb4-af7e-3abea3b90770"
      },
      "execution_count": 16,
      "outputs": [
        {
          "output_type": "stream",
          "name": "stderr",
          "text": [
            "ERROR:root:Error occurred: division by zero\n"
          ]
        },
        {
          "output_type": "stream",
          "name": "stdout",
          "text": [
            "Info and error logged.\n"
          ]
        }
      ]
    },
    {
      "cell_type": "code",
      "source": [
        "#15. Write a Python program that prints the content of a file and handles the case when the file is empty.\n",
        "with open(\"example.txt\", \"r\") as f:\n",
        "    content = f.read()\n",
        "    if content.strip():\n",
        "        print(\"File content:\\n\", content)\n",
        "    else:\n",
        "        print(\"File is empty.\")"
      ],
      "metadata": {
        "colab": {
          "base_uri": "https://localhost:8080/"
        },
        "id": "9PSvTJ8p_sd_",
        "outputId": "53caa102-3399-41cc-a8cd-2d33cebd1896"
      },
      "execution_count": 17,
      "outputs": [
        {
          "output_type": "stream",
          "name": "stdout",
          "text": [
            "File content:\n",
            " Hello, this is a test.\n",
            "This is an appended line.\n"
          ]
        }
      ]
    },
    {
      "cell_type": "code",
      "source": [
        "#16. Demonstrate how to use memory profiling to check the memory usage of a small program.\n",
        "!pip install -q memory_profiler\n",
        "from memory_profiler import profile\n",
        "\n",
        "@profile\n",
        "def my_func():\n",
        "    a = [i for i in range(100000)]\n",
        "    print(\"Memory profiling done.\")\n",
        "    return a\n",
        "\n",
        "my_func()"
      ],
      "metadata": {
        "colab": {
          "base_uri": "https://localhost:8080/"
        },
        "id": "KiBpiKzq_spp",
        "outputId": "0748b876-a219-4d4d-9bf3-35b43e0cdc98"
      },
      "execution_count": 18,
      "outputs": [
        {
          "output_type": "stream",
          "name": "stdout",
          "text": [
            "ERROR: Could not find file <ipython-input-18-68f7e395f052>\n",
            "NOTE: %mprun can only be used on functions defined in physical files, and not in the IPython environment.\n",
            "Memory profiling done.\n"
          ]
        },
        {
          "output_type": "execute_result",
          "data": {
            "text/plain": [
              "[0,\n",
              " 1,\n",
              " 2,\n",
              " 3,\n",
              " 4,\n",
              " 5,\n",
              " 6,\n",
              " 7,\n",
              " 8,\n",
              " 9,\n",
              " 10,\n",
              " 11,\n",
              " 12,\n",
              " 13,\n",
              " 14,\n",
              " 15,\n",
              " 16,\n",
              " 17,\n",
              " 18,\n",
              " 19,\n",
              " 20,\n",
              " 21,\n",
              " 22,\n",
              " 23,\n",
              " 24,\n",
              " 25,\n",
              " 26,\n",
              " 27,\n",
              " 28,\n",
              " 29,\n",
              " 30,\n",
              " 31,\n",
              " 32,\n",
              " 33,\n",
              " 34,\n",
              " 35,\n",
              " 36,\n",
              " 37,\n",
              " 38,\n",
              " 39,\n",
              " 40,\n",
              " 41,\n",
              " 42,\n",
              " 43,\n",
              " 44,\n",
              " 45,\n",
              " 46,\n",
              " 47,\n",
              " 48,\n",
              " 49,\n",
              " 50,\n",
              " 51,\n",
              " 52,\n",
              " 53,\n",
              " 54,\n",
              " 55,\n",
              " 56,\n",
              " 57,\n",
              " 58,\n",
              " 59,\n",
              " 60,\n",
              " 61,\n",
              " 62,\n",
              " 63,\n",
              " 64,\n",
              " 65,\n",
              " 66,\n",
              " 67,\n",
              " 68,\n",
              " 69,\n",
              " 70,\n",
              " 71,\n",
              " 72,\n",
              " 73,\n",
              " 74,\n",
              " 75,\n",
              " 76,\n",
              " 77,\n",
              " 78,\n",
              " 79,\n",
              " 80,\n",
              " 81,\n",
              " 82,\n",
              " 83,\n",
              " 84,\n",
              " 85,\n",
              " 86,\n",
              " 87,\n",
              " 88,\n",
              " 89,\n",
              " 90,\n",
              " 91,\n",
              " 92,\n",
              " 93,\n",
              " 94,\n",
              " 95,\n",
              " 96,\n",
              " 97,\n",
              " 98,\n",
              " 99,\n",
              " 100,\n",
              " 101,\n",
              " 102,\n",
              " 103,\n",
              " 104,\n",
              " 105,\n",
              " 106,\n",
              " 107,\n",
              " 108,\n",
              " 109,\n",
              " 110,\n",
              " 111,\n",
              " 112,\n",
              " 113,\n",
              " 114,\n",
              " 115,\n",
              " 116,\n",
              " 117,\n",
              " 118,\n",
              " 119,\n",
              " 120,\n",
              " 121,\n",
              " 122,\n",
              " 123,\n",
              " 124,\n",
              " 125,\n",
              " 126,\n",
              " 127,\n",
              " 128,\n",
              " 129,\n",
              " 130,\n",
              " 131,\n",
              " 132,\n",
              " 133,\n",
              " 134,\n",
              " 135,\n",
              " 136,\n",
              " 137,\n",
              " 138,\n",
              " 139,\n",
              " 140,\n",
              " 141,\n",
              " 142,\n",
              " 143,\n",
              " 144,\n",
              " 145,\n",
              " 146,\n",
              " 147,\n",
              " 148,\n",
              " 149,\n",
              " 150,\n",
              " 151,\n",
              " 152,\n",
              " 153,\n",
              " 154,\n",
              " 155,\n",
              " 156,\n",
              " 157,\n",
              " 158,\n",
              " 159,\n",
              " 160,\n",
              " 161,\n",
              " 162,\n",
              " 163,\n",
              " 164,\n",
              " 165,\n",
              " 166,\n",
              " 167,\n",
              " 168,\n",
              " 169,\n",
              " 170,\n",
              " 171,\n",
              " 172,\n",
              " 173,\n",
              " 174,\n",
              " 175,\n",
              " 176,\n",
              " 177,\n",
              " 178,\n",
              " 179,\n",
              " 180,\n",
              " 181,\n",
              " 182,\n",
              " 183,\n",
              " 184,\n",
              " 185,\n",
              " 186,\n",
              " 187,\n",
              " 188,\n",
              " 189,\n",
              " 190,\n",
              " 191,\n",
              " 192,\n",
              " 193,\n",
              " 194,\n",
              " 195,\n",
              " 196,\n",
              " 197,\n",
              " 198,\n",
              " 199,\n",
              " 200,\n",
              " 201,\n",
              " 202,\n",
              " 203,\n",
              " 204,\n",
              " 205,\n",
              " 206,\n",
              " 207,\n",
              " 208,\n",
              " 209,\n",
              " 210,\n",
              " 211,\n",
              " 212,\n",
              " 213,\n",
              " 214,\n",
              " 215,\n",
              " 216,\n",
              " 217,\n",
              " 218,\n",
              " 219,\n",
              " 220,\n",
              " 221,\n",
              " 222,\n",
              " 223,\n",
              " 224,\n",
              " 225,\n",
              " 226,\n",
              " 227,\n",
              " 228,\n",
              " 229,\n",
              " 230,\n",
              " 231,\n",
              " 232,\n",
              " 233,\n",
              " 234,\n",
              " 235,\n",
              " 236,\n",
              " 237,\n",
              " 238,\n",
              " 239,\n",
              " 240,\n",
              " 241,\n",
              " 242,\n",
              " 243,\n",
              " 244,\n",
              " 245,\n",
              " 246,\n",
              " 247,\n",
              " 248,\n",
              " 249,\n",
              " 250,\n",
              " 251,\n",
              " 252,\n",
              " 253,\n",
              " 254,\n",
              " 255,\n",
              " 256,\n",
              " 257,\n",
              " 258,\n",
              " 259,\n",
              " 260,\n",
              " 261,\n",
              " 262,\n",
              " 263,\n",
              " 264,\n",
              " 265,\n",
              " 266,\n",
              " 267,\n",
              " 268,\n",
              " 269,\n",
              " 270,\n",
              " 271,\n",
              " 272,\n",
              " 273,\n",
              " 274,\n",
              " 275,\n",
              " 276,\n",
              " 277,\n",
              " 278,\n",
              " 279,\n",
              " 280,\n",
              " 281,\n",
              " 282,\n",
              " 283,\n",
              " 284,\n",
              " 285,\n",
              " 286,\n",
              " 287,\n",
              " 288,\n",
              " 289,\n",
              " 290,\n",
              " 291,\n",
              " 292,\n",
              " 293,\n",
              " 294,\n",
              " 295,\n",
              " 296,\n",
              " 297,\n",
              " 298,\n",
              " 299,\n",
              " 300,\n",
              " 301,\n",
              " 302,\n",
              " 303,\n",
              " 304,\n",
              " 305,\n",
              " 306,\n",
              " 307,\n",
              " 308,\n",
              " 309,\n",
              " 310,\n",
              " 311,\n",
              " 312,\n",
              " 313,\n",
              " 314,\n",
              " 315,\n",
              " 316,\n",
              " 317,\n",
              " 318,\n",
              " 319,\n",
              " 320,\n",
              " 321,\n",
              " 322,\n",
              " 323,\n",
              " 324,\n",
              " 325,\n",
              " 326,\n",
              " 327,\n",
              " 328,\n",
              " 329,\n",
              " 330,\n",
              " 331,\n",
              " 332,\n",
              " 333,\n",
              " 334,\n",
              " 335,\n",
              " 336,\n",
              " 337,\n",
              " 338,\n",
              " 339,\n",
              " 340,\n",
              " 341,\n",
              " 342,\n",
              " 343,\n",
              " 344,\n",
              " 345,\n",
              " 346,\n",
              " 347,\n",
              " 348,\n",
              " 349,\n",
              " 350,\n",
              " 351,\n",
              " 352,\n",
              " 353,\n",
              " 354,\n",
              " 355,\n",
              " 356,\n",
              " 357,\n",
              " 358,\n",
              " 359,\n",
              " 360,\n",
              " 361,\n",
              " 362,\n",
              " 363,\n",
              " 364,\n",
              " 365,\n",
              " 366,\n",
              " 367,\n",
              " 368,\n",
              " 369,\n",
              " 370,\n",
              " 371,\n",
              " 372,\n",
              " 373,\n",
              " 374,\n",
              " 375,\n",
              " 376,\n",
              " 377,\n",
              " 378,\n",
              " 379,\n",
              " 380,\n",
              " 381,\n",
              " 382,\n",
              " 383,\n",
              " 384,\n",
              " 385,\n",
              " 386,\n",
              " 387,\n",
              " 388,\n",
              " 389,\n",
              " 390,\n",
              " 391,\n",
              " 392,\n",
              " 393,\n",
              " 394,\n",
              " 395,\n",
              " 396,\n",
              " 397,\n",
              " 398,\n",
              " 399,\n",
              " 400,\n",
              " 401,\n",
              " 402,\n",
              " 403,\n",
              " 404,\n",
              " 405,\n",
              " 406,\n",
              " 407,\n",
              " 408,\n",
              " 409,\n",
              " 410,\n",
              " 411,\n",
              " 412,\n",
              " 413,\n",
              " 414,\n",
              " 415,\n",
              " 416,\n",
              " 417,\n",
              " 418,\n",
              " 419,\n",
              " 420,\n",
              " 421,\n",
              " 422,\n",
              " 423,\n",
              " 424,\n",
              " 425,\n",
              " 426,\n",
              " 427,\n",
              " 428,\n",
              " 429,\n",
              " 430,\n",
              " 431,\n",
              " 432,\n",
              " 433,\n",
              " 434,\n",
              " 435,\n",
              " 436,\n",
              " 437,\n",
              " 438,\n",
              " 439,\n",
              " 440,\n",
              " 441,\n",
              " 442,\n",
              " 443,\n",
              " 444,\n",
              " 445,\n",
              " 446,\n",
              " 447,\n",
              " 448,\n",
              " 449,\n",
              " 450,\n",
              " 451,\n",
              " 452,\n",
              " 453,\n",
              " 454,\n",
              " 455,\n",
              " 456,\n",
              " 457,\n",
              " 458,\n",
              " 459,\n",
              " 460,\n",
              " 461,\n",
              " 462,\n",
              " 463,\n",
              " 464,\n",
              " 465,\n",
              " 466,\n",
              " 467,\n",
              " 468,\n",
              " 469,\n",
              " 470,\n",
              " 471,\n",
              " 472,\n",
              " 473,\n",
              " 474,\n",
              " 475,\n",
              " 476,\n",
              " 477,\n",
              " 478,\n",
              " 479,\n",
              " 480,\n",
              " 481,\n",
              " 482,\n",
              " 483,\n",
              " 484,\n",
              " 485,\n",
              " 486,\n",
              " 487,\n",
              " 488,\n",
              " 489,\n",
              " 490,\n",
              " 491,\n",
              " 492,\n",
              " 493,\n",
              " 494,\n",
              " 495,\n",
              " 496,\n",
              " 497,\n",
              " 498,\n",
              " 499,\n",
              " 500,\n",
              " 501,\n",
              " 502,\n",
              " 503,\n",
              " 504,\n",
              " 505,\n",
              " 506,\n",
              " 507,\n",
              " 508,\n",
              " 509,\n",
              " 510,\n",
              " 511,\n",
              " 512,\n",
              " 513,\n",
              " 514,\n",
              " 515,\n",
              " 516,\n",
              " 517,\n",
              " 518,\n",
              " 519,\n",
              " 520,\n",
              " 521,\n",
              " 522,\n",
              " 523,\n",
              " 524,\n",
              " 525,\n",
              " 526,\n",
              " 527,\n",
              " 528,\n",
              " 529,\n",
              " 530,\n",
              " 531,\n",
              " 532,\n",
              " 533,\n",
              " 534,\n",
              " 535,\n",
              " 536,\n",
              " 537,\n",
              " 538,\n",
              " 539,\n",
              " 540,\n",
              " 541,\n",
              " 542,\n",
              " 543,\n",
              " 544,\n",
              " 545,\n",
              " 546,\n",
              " 547,\n",
              " 548,\n",
              " 549,\n",
              " 550,\n",
              " 551,\n",
              " 552,\n",
              " 553,\n",
              " 554,\n",
              " 555,\n",
              " 556,\n",
              " 557,\n",
              " 558,\n",
              " 559,\n",
              " 560,\n",
              " 561,\n",
              " 562,\n",
              " 563,\n",
              " 564,\n",
              " 565,\n",
              " 566,\n",
              " 567,\n",
              " 568,\n",
              " 569,\n",
              " 570,\n",
              " 571,\n",
              " 572,\n",
              " 573,\n",
              " 574,\n",
              " 575,\n",
              " 576,\n",
              " 577,\n",
              " 578,\n",
              " 579,\n",
              " 580,\n",
              " 581,\n",
              " 582,\n",
              " 583,\n",
              " 584,\n",
              " 585,\n",
              " 586,\n",
              " 587,\n",
              " 588,\n",
              " 589,\n",
              " 590,\n",
              " 591,\n",
              " 592,\n",
              " 593,\n",
              " 594,\n",
              " 595,\n",
              " 596,\n",
              " 597,\n",
              " 598,\n",
              " 599,\n",
              " 600,\n",
              " 601,\n",
              " 602,\n",
              " 603,\n",
              " 604,\n",
              " 605,\n",
              " 606,\n",
              " 607,\n",
              " 608,\n",
              " 609,\n",
              " 610,\n",
              " 611,\n",
              " 612,\n",
              " 613,\n",
              " 614,\n",
              " 615,\n",
              " 616,\n",
              " 617,\n",
              " 618,\n",
              " 619,\n",
              " 620,\n",
              " 621,\n",
              " 622,\n",
              " 623,\n",
              " 624,\n",
              " 625,\n",
              " 626,\n",
              " 627,\n",
              " 628,\n",
              " 629,\n",
              " 630,\n",
              " 631,\n",
              " 632,\n",
              " 633,\n",
              " 634,\n",
              " 635,\n",
              " 636,\n",
              " 637,\n",
              " 638,\n",
              " 639,\n",
              " 640,\n",
              " 641,\n",
              " 642,\n",
              " 643,\n",
              " 644,\n",
              " 645,\n",
              " 646,\n",
              " 647,\n",
              " 648,\n",
              " 649,\n",
              " 650,\n",
              " 651,\n",
              " 652,\n",
              " 653,\n",
              " 654,\n",
              " 655,\n",
              " 656,\n",
              " 657,\n",
              " 658,\n",
              " 659,\n",
              " 660,\n",
              " 661,\n",
              " 662,\n",
              " 663,\n",
              " 664,\n",
              " 665,\n",
              " 666,\n",
              " 667,\n",
              " 668,\n",
              " 669,\n",
              " 670,\n",
              " 671,\n",
              " 672,\n",
              " 673,\n",
              " 674,\n",
              " 675,\n",
              " 676,\n",
              " 677,\n",
              " 678,\n",
              " 679,\n",
              " 680,\n",
              " 681,\n",
              " 682,\n",
              " 683,\n",
              " 684,\n",
              " 685,\n",
              " 686,\n",
              " 687,\n",
              " 688,\n",
              " 689,\n",
              " 690,\n",
              " 691,\n",
              " 692,\n",
              " 693,\n",
              " 694,\n",
              " 695,\n",
              " 696,\n",
              " 697,\n",
              " 698,\n",
              " 699,\n",
              " 700,\n",
              " 701,\n",
              " 702,\n",
              " 703,\n",
              " 704,\n",
              " 705,\n",
              " 706,\n",
              " 707,\n",
              " 708,\n",
              " 709,\n",
              " 710,\n",
              " 711,\n",
              " 712,\n",
              " 713,\n",
              " 714,\n",
              " 715,\n",
              " 716,\n",
              " 717,\n",
              " 718,\n",
              " 719,\n",
              " 720,\n",
              " 721,\n",
              " 722,\n",
              " 723,\n",
              " 724,\n",
              " 725,\n",
              " 726,\n",
              " 727,\n",
              " 728,\n",
              " 729,\n",
              " 730,\n",
              " 731,\n",
              " 732,\n",
              " 733,\n",
              " 734,\n",
              " 735,\n",
              " 736,\n",
              " 737,\n",
              " 738,\n",
              " 739,\n",
              " 740,\n",
              " 741,\n",
              " 742,\n",
              " 743,\n",
              " 744,\n",
              " 745,\n",
              " 746,\n",
              " 747,\n",
              " 748,\n",
              " 749,\n",
              " 750,\n",
              " 751,\n",
              " 752,\n",
              " 753,\n",
              " 754,\n",
              " 755,\n",
              " 756,\n",
              " 757,\n",
              " 758,\n",
              " 759,\n",
              " 760,\n",
              " 761,\n",
              " 762,\n",
              " 763,\n",
              " 764,\n",
              " 765,\n",
              " 766,\n",
              " 767,\n",
              " 768,\n",
              " 769,\n",
              " 770,\n",
              " 771,\n",
              " 772,\n",
              " 773,\n",
              " 774,\n",
              " 775,\n",
              " 776,\n",
              " 777,\n",
              " 778,\n",
              " 779,\n",
              " 780,\n",
              " 781,\n",
              " 782,\n",
              " 783,\n",
              " 784,\n",
              " 785,\n",
              " 786,\n",
              " 787,\n",
              " 788,\n",
              " 789,\n",
              " 790,\n",
              " 791,\n",
              " 792,\n",
              " 793,\n",
              " 794,\n",
              " 795,\n",
              " 796,\n",
              " 797,\n",
              " 798,\n",
              " 799,\n",
              " 800,\n",
              " 801,\n",
              " 802,\n",
              " 803,\n",
              " 804,\n",
              " 805,\n",
              " 806,\n",
              " 807,\n",
              " 808,\n",
              " 809,\n",
              " 810,\n",
              " 811,\n",
              " 812,\n",
              " 813,\n",
              " 814,\n",
              " 815,\n",
              " 816,\n",
              " 817,\n",
              " 818,\n",
              " 819,\n",
              " 820,\n",
              " 821,\n",
              " 822,\n",
              " 823,\n",
              " 824,\n",
              " 825,\n",
              " 826,\n",
              " 827,\n",
              " 828,\n",
              " 829,\n",
              " 830,\n",
              " 831,\n",
              " 832,\n",
              " 833,\n",
              " 834,\n",
              " 835,\n",
              " 836,\n",
              " 837,\n",
              " 838,\n",
              " 839,\n",
              " 840,\n",
              " 841,\n",
              " 842,\n",
              " 843,\n",
              " 844,\n",
              " 845,\n",
              " 846,\n",
              " 847,\n",
              " 848,\n",
              " 849,\n",
              " 850,\n",
              " 851,\n",
              " 852,\n",
              " 853,\n",
              " 854,\n",
              " 855,\n",
              " 856,\n",
              " 857,\n",
              " 858,\n",
              " 859,\n",
              " 860,\n",
              " 861,\n",
              " 862,\n",
              " 863,\n",
              " 864,\n",
              " 865,\n",
              " 866,\n",
              " 867,\n",
              " 868,\n",
              " 869,\n",
              " 870,\n",
              " 871,\n",
              " 872,\n",
              " 873,\n",
              " 874,\n",
              " 875,\n",
              " 876,\n",
              " 877,\n",
              " 878,\n",
              " 879,\n",
              " 880,\n",
              " 881,\n",
              " 882,\n",
              " 883,\n",
              " 884,\n",
              " 885,\n",
              " 886,\n",
              " 887,\n",
              " 888,\n",
              " 889,\n",
              " 890,\n",
              " 891,\n",
              " 892,\n",
              " 893,\n",
              " 894,\n",
              " 895,\n",
              " 896,\n",
              " 897,\n",
              " 898,\n",
              " 899,\n",
              " 900,\n",
              " 901,\n",
              " 902,\n",
              " 903,\n",
              " 904,\n",
              " 905,\n",
              " 906,\n",
              " 907,\n",
              " 908,\n",
              " 909,\n",
              " 910,\n",
              " 911,\n",
              " 912,\n",
              " 913,\n",
              " 914,\n",
              " 915,\n",
              " 916,\n",
              " 917,\n",
              " 918,\n",
              " 919,\n",
              " 920,\n",
              " 921,\n",
              " 922,\n",
              " 923,\n",
              " 924,\n",
              " 925,\n",
              " 926,\n",
              " 927,\n",
              " 928,\n",
              " 929,\n",
              " 930,\n",
              " 931,\n",
              " 932,\n",
              " 933,\n",
              " 934,\n",
              " 935,\n",
              " 936,\n",
              " 937,\n",
              " 938,\n",
              " 939,\n",
              " 940,\n",
              " 941,\n",
              " 942,\n",
              " 943,\n",
              " 944,\n",
              " 945,\n",
              " 946,\n",
              " 947,\n",
              " 948,\n",
              " 949,\n",
              " 950,\n",
              " 951,\n",
              " 952,\n",
              " 953,\n",
              " 954,\n",
              " 955,\n",
              " 956,\n",
              " 957,\n",
              " 958,\n",
              " 959,\n",
              " 960,\n",
              " 961,\n",
              " 962,\n",
              " 963,\n",
              " 964,\n",
              " 965,\n",
              " 966,\n",
              " 967,\n",
              " 968,\n",
              " 969,\n",
              " 970,\n",
              " 971,\n",
              " 972,\n",
              " 973,\n",
              " 974,\n",
              " 975,\n",
              " 976,\n",
              " 977,\n",
              " 978,\n",
              " 979,\n",
              " 980,\n",
              " 981,\n",
              " 982,\n",
              " 983,\n",
              " 984,\n",
              " 985,\n",
              " 986,\n",
              " 987,\n",
              " 988,\n",
              " 989,\n",
              " 990,\n",
              " 991,\n",
              " 992,\n",
              " 993,\n",
              " 994,\n",
              " 995,\n",
              " 996,\n",
              " 997,\n",
              " 998,\n",
              " 999,\n",
              " ...]"
            ]
          },
          "metadata": {},
          "execution_count": 18
        }
      ]
    },
    {
      "cell_type": "code",
      "source": [
        "#17. Write a Python program to create and write a list of numbers to a file, one number per line.\n",
        "nums = [1, 2, 3, 4, 5]\n",
        "with open(\"numbers.txt\", \"w\") as f:\n",
        "    for num in nums:\n",
        "        f.write(str(num) + \"\\n\")\n",
        "print(\"Numbers written to file.\")"
      ],
      "metadata": {
        "colab": {
          "base_uri": "https://localhost:8080/"
        },
        "id": "FPbr1MV3_s1M",
        "outputId": "76f5d222-0e54-46b7-9eac-2761956d1121"
      },
      "execution_count": 19,
      "outputs": [
        {
          "output_type": "stream",
          "name": "stdout",
          "text": [
            "Numbers written to file.\n"
          ]
        }
      ]
    },
    {
      "cell_type": "code",
      "source": [
        "#18. How would you implement a basic logging setup that logs to a file with rotation after IMB?\n",
        "import logging\n",
        "import logging.handlers\n",
        "logger = logging.getLogger(\"rotate_log\")\n",
        "logger.setLevel(logging.INFO)\n",
        "handler = logging.handlers.RotatingFileHandler(\"rotating.log\", maxBytes=100, backupCount=2)\n",
        "logger.addHandler(handler)\n",
        "logger.info(\"This is a rotating log message.\")\n",
        "print(\"Log message written with rotation setup.\")"
      ],
      "metadata": {
        "colab": {
          "base_uri": "https://localhost:8080/"
        },
        "id": "2JpCU7tN_s_5",
        "outputId": "5dbe6807-324e-4dab-f0cc-0b39c5824295"
      },
      "execution_count": 20,
      "outputs": [
        {
          "output_type": "stream",
          "name": "stderr",
          "text": [
            "INFO:rotate_log:This is a rotating log message.\n"
          ]
        },
        {
          "output_type": "stream",
          "name": "stdout",
          "text": [
            "Log message written with rotation setup.\n"
          ]
        }
      ]
    },
    {
      "cell_type": "code",
      "source": [
        "#19. Write a program that handles both IndexError and KeyError using a try-except block.\n",
        "try:\n",
        "    arr = [1, 2]\n",
        "    print(arr[5])\n",
        "except IndexError:\n",
        "    print(\"Caught IndexError.\")\n",
        "\n",
        "try:\n",
        "    d = {\"x\": 1}\n",
        "    print(d[\"y\"])\n",
        "except KeyError:\n",
        "    print(\"Caught KeyError.\")"
      ],
      "metadata": {
        "colab": {
          "base_uri": "https://localhost:8080/"
        },
        "id": "DSMpxgCe_tKL",
        "outputId": "0f33f506-73e6-46e7-a2c9-8c80e177d49c"
      },
      "execution_count": 21,
      "outputs": [
        {
          "output_type": "stream",
          "name": "stdout",
          "text": [
            "Caught IndexError.\n",
            "Caught KeyError.\n"
          ]
        }
      ]
    },
    {
      "cell_type": "code",
      "source": [
        "#20. How would you open a file and read its contents using a context manager in Python?\n",
        "with open(\"example.txt\", \"r\") as f:\n",
        "    content = f.read()\n",
        "    print(\"File content:\\n\", content)"
      ],
      "metadata": {
        "colab": {
          "base_uri": "https://localhost:8080/"
        },
        "id": "vmqRXmTX_tl2",
        "outputId": "8767a25b-e855-415c-9520-6c1be02cb92d"
      },
      "execution_count": 22,
      "outputs": [
        {
          "output_type": "stream",
          "name": "stdout",
          "text": [
            "File content:\n",
            " Hello, this is a test.\n",
            "This is an appended line.\n"
          ]
        }
      ]
    },
    {
      "cell_type": "code",
      "source": [
        "#21. Write a Python program that reads a file and prints the number of occurrences of a specific word.\n",
        "word = \"test\"\n",
        "count = 0\n",
        "with open(\"example.txt\", \"r\") as f:\n",
        "    for line in f:\n",
        "        count += line.lower().count(word.lower())\n",
        "print(f\"'{word}' occurred {count} times.\")\n"
      ],
      "metadata": {
        "colab": {
          "base_uri": "https://localhost:8080/"
        },
        "id": "pC9gpEzy_tz2",
        "outputId": "07a4f395-6bfb-4286-ff48-058b4a4f2587"
      },
      "execution_count": 23,
      "outputs": [
        {
          "output_type": "stream",
          "name": "stdout",
          "text": [
            "'test' occurred 1 times.\n"
          ]
        }
      ]
    },
    {
      "cell_type": "code",
      "source": [
        "#22. How can you check if a file is empty before attempting to read its contents?\n",
        "import os\n",
        "if os.path.getsize(\"example.txt\") == 0:\n",
        "    print(\"File is empty.\")\n",
        "else:\n",
        "    print(\"File is not empty.\")"
      ],
      "metadata": {
        "colab": {
          "base_uri": "https://localhost:8080/"
        },
        "id": "-7mI9tJw_t96",
        "outputId": "4114a66b-a7cf-4f72-f072-f9fa590a7bb7"
      },
      "execution_count": 24,
      "outputs": [
        {
          "output_type": "stream",
          "name": "stdout",
          "text": [
            "File is not empty.\n"
          ]
        }
      ]
    },
    {
      "cell_type": "code",
      "source": [
        "#23. Write a Python program that writes to a log file when an error occurs during file handling.\n",
        "import logging\n",
        "logging.basicConfig(filename=\"file_error.log\", level=logging.ERROR)\n",
        "try:\n",
        "    with open(\"nofile.txt\", \"r\") as f:\n",
        "        print(f.read())\n",
        "except Exception as e:\n",
        "    logging.error(\"File handling error: %s\", e)\n",
        "    print(\"Error logged to file_error.log\")"
      ],
      "metadata": {
        "colab": {
          "base_uri": "https://localhost:8080/"
        },
        "id": "8U9I8OUk_uM_",
        "outputId": "74a00239-5049-4676-ecc7-6e791d540570"
      },
      "execution_count": 25,
      "outputs": [
        {
          "output_type": "stream",
          "name": "stderr",
          "text": [
            "ERROR:root:File handling error: [Errno 2] No such file or directory: 'nofile.txt'\n"
          ]
        },
        {
          "output_type": "stream",
          "name": "stdout",
          "text": [
            "Error logged to file_error.log\n"
          ]
        }
      ]
    }
  ]
}